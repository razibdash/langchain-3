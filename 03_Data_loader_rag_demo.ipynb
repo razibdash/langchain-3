{
 "cells": [
  {
   "cell_type": "markdown",
   "id": "81548dcc",
   "metadata": {},
   "source": [
    "print(\"Data Loader RAG Demo\")\n"
   ]
  }
 ],
 "metadata": {
  "language_info": {
   "name": "python"
  }
 },
 "nbformat": 4,
 "nbformat_minor": 5
}
