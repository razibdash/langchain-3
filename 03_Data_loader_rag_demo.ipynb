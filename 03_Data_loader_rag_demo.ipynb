{
 "cells": [
  {
   "cell_type": "code",
   "execution_count": 2,
   "id": "bd38dfeb",
   "metadata": {},
   "outputs": [
    {
     "name": "stdout",
     "output_type": "stream",
     "text": [
      "Data Loader RAG\n"
     ]
    }
   ],
   "source": [
    "print(\"Data Loader RAG\")"
   ]
  },
  {
   "cell_type": "code",
   "execution_count": 3,
   "id": "0bce679a",
   "metadata": {},
   "outputs": [],
   "source": [
    "# Import necessary libraries\n",
    "import os\n",
    "from dotenv import load_dotenv, find_dotenv\n",
    "_ = load_dotenv(find_dotenv())\n",
    "from langchain_groq import ChatGroq\n",
    "GROQ_API_KEY=os.environ[\"GROQ_API_KEY\"]"
   ]
  },
  {
   "cell_type": "code",
   "execution_count": 4,
   "id": "e4ffbe7b",
   "metadata": {},
   "outputs": [
    {
     "name": "stderr",
     "output_type": "stream",
     "text": [
      "d:\\anaconda\\envs\\llmapp\\Lib\\site-packages\\langchain_groq\\chat_models.py:355: UserWarning: WARNING! max_completion_tokens is not default parameter.\n",
      "                    max_completion_tokens was transferred to model_kwargs.\n",
      "                    Please confirm that max_completion_tokens is what you intended.\n",
      "  warnings.warn(\n",
      "d:\\anaconda\\envs\\llmapp\\Lib\\site-packages\\langchain_groq\\chat_models.py:355: UserWarning: WARNING! top_p is not default parameter.\n",
      "                    top_p was transferred to model_kwargs.\n",
      "                    Please confirm that top_p is what you intended.\n",
      "  warnings.warn(\n"
     ]
    }
   ],
   "source": [
    "# Initialize the Groq LLM with the model name and parameters\n",
    "llamaChatModel = ChatGroq(\n",
    "    api_key=GROQ_API_KEY,\n",
    "    model=\"llama3-70b-8192\",\n",
    "    temperature=1,\n",
    "    max_completion_tokens=1024,\n",
    "    top_p=1,\n",
    ")"
   ]
  },
  {
   "cell_type": "code",
   "execution_count": 5,
   "id": "630171b6",
   "metadata": {},
   "outputs": [],
   "source": [
    "messages = [\n",
    "    (\"system\", \"You are an  helpful assistant.\"),\n",
    "    (\"human\", \"who is avronilrajib?\"),\n",
    "]\n",
    "# Generate a response using the Groq LLM\n",
    "response = llamaChatModel.invoke(messages)"
   ]
  },
  {
   "cell_type": "code",
   "execution_count": 6,
   "id": "f4be645b",
   "metadata": {},
   "outputs": [
    {
     "name": "stdout",
     "output_type": "stream",
     "text": [
      "content='I apologize, but I couldn\\'t find any information on a person named \"Avronilrajib\". It\\'s possible that this is a private individual or a misspelling. Can you please provide more context or details about who Avronilrajib is or what they are known for? I\\'d be happy to try and help you find more information!' response_metadata={'token_usage': {'completion_tokens': 73, 'prompt_tokens': 30, 'total_tokens': 103, 'completion_time': 0.208571429, 'prompt_time': 0.000586021, 'queue_time': 0.056124169, 'total_time': 0.20915745}, 'model_name': 'llama3-70b-8192', 'system_fingerprint': 'fp_dd4ae1c591', 'finish_reason': 'stop', 'logprobs': None} id='run-286dad40-b879-4de1-99b6-c087d3c52c68-0' usage_metadata={'input_tokens': 30, 'output_tokens': 73, 'total_tokens': 103}\n"
     ]
    }
   ],
   "source": [
    "print(response)"
   ]
  },
  {
   "cell_type": "markdown",
   "id": "1952754e",
   "metadata": {},
   "source": [
    "Data Loader\n"
   ]
  },
  {
   "cell_type": "code",
   "execution_count": 7,
   "id": "62b125cd",
   "metadata": {},
   "outputs": [
    {
     "data": {
      "text/plain": [
       "[Document(metadata={'source': 'data/be-good.txt'}, page_content='Be good\\n\\nApril 2008(This essay is derived from a talk at the 2008 Startup School.)About a month after we started Y Combinator we came up with the\\nphrase that became our motto: Make something people want.  We\\'ve\\nlearned a lot since then, but if I were choosing now that\\'s still\\nthe one I\\'d pick.Another thing we tell founders is not to worry too much about the\\nbusiness model, at least at first.  Not because making money is\\nunimportant, but because it\\'s so much easier than building something\\ngreat.A couple weeks ago I realized that if you put those two ideas\\ntogether, you get something surprising.  Make something people want.\\nDon\\'t worry too much about making money.  What you\\'ve got is a\\ndescription of a charity.When you get an unexpected result like this, it could either be a\\nbug or a new discovery.  Either businesses aren\\'t supposed to be\\nlike charities, and we\\'ve proven by reductio ad absurdum that one\\nor both of the principles we began with is false.  Or we have a new\\nidea.I suspect it\\'s the latter, because as soon as this thought occurred\\nto me, a whole bunch of other things fell into place.ExamplesFor example, Craigslist.  It\\'s not a charity, but they run it like\\none.  And they\\'re astoundingly successful.  When you scan down the\\nlist of most popular web sites, the number of employees at Craigslist\\nlooks like a misprint. Their revenues aren\\'t as high as they could\\nbe, but most startups would be happy to trade places with them.In Patrick O\\'Brian\\'s novels, his captains always try to get upwind\\nof their opponents.  If you\\'re upwind, you decide when and if to\\nengage the other ship.  Craigslist is effectively upwind of enormous\\nrevenues.  They\\'d face some challenges if they wanted to make more,\\nbut not the sort you face when you\\'re tacking upwind, trying to\\nforce a crappy product on ambivalent users by spending ten times\\nas much on sales as on development.  [1]I\\'m not saying startups should aim to end up like Craigslist.\\nThey\\'re a product of unusual circumstances.  But they\\'re a good\\nmodel for the early phases.Google looked a lot like a charity in the beginning. They didn\\'t\\nhave ads for over a year.  At year 1, Google was indistinguishable\\nfrom a nonprofit.  If a nonprofit or government organization had\\nstarted a project to index the web, Google at year 1 is the limit\\nof what they\\'d have produced.Back when I was working on spam filters I thought it would be a\\ngood idea to have a web-based email service with good spam filtering.\\nI wasn\\'t thinking of it as a company.  I just wanted to keep people\\nfrom getting spammed.  But as I thought more about this project, I\\nrealized it would probably have to be a company.  It would cost\\nsomething to run, and it would be a pain to fund with grants and\\ndonations.That was a surprising realization.  Companies often claim to be\\nbenevolent, but it was surprising to realize there were purely\\nbenevolent projects that had to be embodied as companies to work.I didn\\'t want to start another company, so I didn\\'t do it.  But if\\nsomeone had, they\\'d probably be quite rich now.  There was a window\\nof about two years when spam was increasing rapidly but all the big\\nemail services had terrible filters.  If someone had launched a\\nnew, spam-free mail service, users would have flocked to it.Notice the pattern here?  From either direction we get to the same\\nspot.  If you start from successful startups, you find they often\\nbehaved like nonprofits.  And if you start from ideas for nonprofits,\\nyou find they\\'d often make good startups.PowerHow wide is this territory?  Would all good nonprofits be good\\ncompanies?  Possibly not.  What makes Google so valuable is that\\ntheir users have money.  If you make people with money love you,\\nyou can probably get some of it.  But could you also base a successful\\nstartup on behaving like a nonprofit to people who don\\'t have money?\\nCould you, for example, grow a successful startup out of curing an\\nunfashionable but deadly disease like malaria?I\\'m not sure, but I suspect that if you pushed this idea, you\\'d be\\nsurprised how far it would go.  For example, people who apply to Y\\nCombinator don\\'t generally have much money, and yet we can profit\\nby helping them, because with our help they could make money.  Maybe\\nthe situation is similar with malaria.  Maybe an organization that\\nhelped lift its weight off a country could benefit from the resulting\\ngrowth.I\\'m not proposing this is a serious idea.  I don\\'t know anything\\nabout malaria.  But I\\'ve been kicking ideas around long enough to\\nknow when I come across a powerful one.One way to guess how far an idea extends is to ask yourself at what\\npoint you\\'d bet against it.  The thought of betting against benevolence\\nis alarming in the same way as saying that something is technically\\nimpossible.  You\\'re just asking to be made a fool of, because these\\nare such powerful forces.  [2]For example, initially I thought maybe this principle only applied\\nto Internet startups.  Obviously it worked for Google, but what\\nabout Microsoft?  Surely Microsoft isn\\'t benevolent?  But when I\\nthink back to the beginning, they were.  Compared to IBM they were\\nlike Robin Hood.  When IBM introduced the PC, they thought they\\nwere going to make money selling hardware at high prices.  But by\\ngaining control of the PC standard, Microsoft opened up the market\\nto any manufacturer.  Hardware prices plummeted, and lots of people\\ngot to have computers who couldn\\'t otherwise have afforded them.\\nIt\\'s the sort of thing you\\'d expect Google to do.Microsoft isn\\'t so benevolent now.  Now when one thinks of what\\nMicrosoft does to users, all the verbs that come to mind begin with\\nF.  [3] And yet it doesn\\'t seem to pay.\\nTheir stock price has been flat for years.  Back when they were\\nRobin Hood, their stock price rose like Google\\'s.  Could there be\\na connection?You can see how there would be.  When you\\'re small, you can\\'t bully\\ncustomers, so you have to charm them.  Whereas when you\\'re big you\\ncan maltreat them at will, and you tend to, because it\\'s easier\\nthan satisfying them.  You grow big by being nice, but you can stay\\nbig by being mean.You get away with it till the underlying conditions change, and\\nthen all your victims escape.  So \"Don\\'t be evil\" may be the most\\nvaluable thing Paul Buchheit made for Google, because it may turn\\nout to be an elixir of corporate youth.  I\\'m sure they find it\\nconstraining, but think how valuable it will be if it saves them\\nfrom lapsing into the fatal laziness that afflicted Microsoft and\\nIBM.The curious thing is, this elixir is freely available to any other\\ncompany.  Anyone can adopt \"Don\\'t be evil.\"  The catch is that\\npeople will hold you to it.  So I don\\'t think you\\'re going to see\\nrecord labels or tobacco companies using this discovery.MoraleThere\\'s a lot of external evidence that benevolence works.  But how\\ndoes it work?  One advantage of investing in a large number of\\nstartups is that you get a lot of data about how they work.  From\\nwhat we\\'ve seen, being good seems to help startups in three ways:\\nit improves their morale, it makes other people want to help them,\\nand above all, it helps them be decisive.Morale is tremendously important to a startup—so important\\nthat morale alone is almost enough to determine success.  Startups\\nare often described as emotional roller-coasters. One minute you\\'re\\ngoing to take over the world, and the next you\\'re doomed.  The\\nproblem with feeling you\\'re doomed is not just that it makes you\\nunhappy, but that it makes you stop working.  So the downhills\\nof the roller-coaster are more of a self fulfilling prophecy than\\nthe uphills.  If feeling you\\'re going to succeed makes you work\\nharder, that probably improves your chances of succeeding, but if\\nfeeling you\\'re going to fail makes you stop working, that practically\\nguarantees you\\'ll fail.Here\\'s where benevolence comes in.  If you feel you\\'re really helping\\npeople, you\\'ll keep working even when it seems like your startup\\nis doomed.  Most of us have some amount of natural benevolence.\\nThe mere fact that someone needs you makes you want to help them.\\nSo if you start the kind of startup where users come back each day,\\nyou\\'ve basically built yourself a giant tamagotchi.  You\\'ve made\\nsomething you need to take care of.Blogger is a famous example of a startup that went through really\\nlow lows and survived.  At one point they ran out of money and\\neveryone left. Evan Williams came in to work the next day, and there\\nwas no one but him.  What kept him going?  Partly that users needed\\nhim.  He was hosting thousands of people\\'s blogs. He couldn\\'t just\\nlet the site die.There are many advantages of launching quickly, but the most important\\nmay be that once you have users, the tamagotchi effect kicks in.\\nOnce you have users to take care of, you\\'re forced to figure out\\nwhat will make them happy, and that\\'s actually very valuable\\ninformation.The added confidence that comes from trying to help people can\\nalso help you with investors. One of the founders of \\nChatterous told \\nme recently that he and his cofounder had decided that this service\\nwas something the world needed, so they were going to keep working\\non it no matter what, even if they had to move back to Canada and live\\nin their parents\\' basements.Once they realized this, they stopped caring so much what investors thought\\nabout them.  They still met with them, but they weren\\'t going to\\ndie if they didn\\'t get their money.  And you know what?  The investors\\ngot a lot more interested.  They could sense that the Chatterouses\\nwere going to do this startup with or without them.If you\\'re really committed and your startup is cheap to run, you\\nbecome very hard to kill.  And practically all startups, even the\\nmost successful, come close to death at some point.  So if doing\\ngood for people gives you a sense of mission that makes you harder\\nto kill, that alone more than compensates for whatever you lose by\\nnot choosing a more selfish project.HelpAnother advantage of being good is that it makes other people want\\nto help you.  This too seems to be an inborn trait in humans.One of the startups we\\'ve funded, Octopart, is currently locked in\\na classic battle of good versus evil.  They\\'re a search site for\\nindustrial components.  A lot of people need to search for components,\\nand before Octopart there was no good way to do it.  That, it turned\\nout, was no coincidence.Octopart built the right way to search for components.  Users like\\nit and they\\'ve been growing rapidly.  And yet for most of Octopart\\'s\\nlife, the biggest distributor, Digi-Key, has been trying to force\\nthem take their prices off the site.  Octopart is sending them\\ncustomers for free, and yet Digi-Key is trying to make that traffic\\nstop.  Why?  Because their current business model depends on\\novercharging people who have incomplete information about prices.\\nThey don\\'t want search to work.The Octoparts are the nicest guys in the world.  They dropped out\\nof the PhD program in physics at Berkeley to do this.  They just\\nwanted to fix a problem they encountered in their research.  Imagine\\nhow much time you could save the world\\'s engineers if they could\\ndo searches online.  So when I hear that a big, evil company is\\ntrying to stop them in order to keep search broken, it makes me\\nreally want to help them. It makes me spend more time on the Octoparts\\nthan I do with most of the other startups we\\'ve funded.  It just\\nmade me spend several minutes telling you how great they are.  Why?\\nBecause they\\'re good guys and they\\'re trying to help the world.If you\\'re benevolent, people will rally around you: investors,\\ncustomers, other companies, and potential employees.  In the long\\nterm the most important may be the potential employees.  I think\\neveryone knows now that \\ngood hackers are much better than mediocre\\nones.  If you can attract the best hackers to work for you, as\\nGoogle has, you have a big advantage.  And the very best hackers\\ntend to be idealistic.  They\\'re not desperate for a job.  They can\\nwork wherever they want.  So most want to work on things that will\\nmake the world better.CompassBut the most important advantage of being good is that it acts as\\na compass.  One of the hardest parts of doing a startup is that you\\nhave so many choices.  There are just two or three of you, and a\\nthousand things you could do. How do you decide?Here\\'s the answer: Do whatever\\'s best for your users.  You can hold\\nonto this like a rope in a hurricane, and it will save you if\\nanything can.  Follow it and it will take you through everything\\nyou need to do.It\\'s even the answer to questions that seem unrelated, like how to\\nconvince investors to give you money.  If you\\'re a good salesman,\\nyou could try to just talk them into it.  But the more reliable\\nroute is to convince them through your users: if you make something\\nusers love enough to tell their friends, you grow exponentially,\\nand that will convince any investor.Being good is a particularly useful strategy for making decisions\\nin complex situations because it\\'s stateless.  It\\'s like telling\\nthe truth.  The trouble with lying is that you have to remember\\neverything you\\'ve said in the past to make sure you don\\'t contradict\\nyourself.  If you tell the truth you don\\'t have to remember anything,\\nand that\\'s a really useful property in domains where things happen\\nfast.For example, Y Combinator has now invested in 80 startups, 57 of\\nwhich are still alive.  (The rest have died or merged or been\\nacquired.)  When you\\'re trying to advise 57 startups, it turns out\\nyou have to have a stateless algorithm.  You can\\'t have ulterior\\nmotives when you have 57 things going on at once, because you can\\'t\\nremember them.  So our rule is just to do whatever\\'s best for the\\nfounders.  Not because we\\'re particularly benevolent, but because\\nit\\'s the only algorithm that works on that scale.When you write something telling people to be good, you seem to be\\nclaiming to be good yourself.  So I want to say explicitly that I\\nam not a particularly good person.  When I was a kid I was firmly\\nin the camp of bad.  The way adults used the word good, it seemed\\nto be synonymous with quiet, so I grew up very suspicious of it.You know how there are some people whose names come up in conversation\\nand everyone says \"He\\'s such a great guy?\"  People never say\\nthat about me.  The best I get is \"he means well.\"  I am not claiming\\nto be good.  At best I speak good as a second language.So I\\'m not suggesting you be good in the usual sanctimonious way.\\nI\\'m suggesting it because it works.  It will work not just as a\\nstatement of \"values,\" but as a guide to strategy,\\nand even a design spec for software.  Don\\'t just not be evil.  Be\\ngood.Notes[1] Fifty years ago\\nit would have seemed shocking for a public company not to pay\\ndividends.  Now many tech companies don\\'t.  The markets seem to\\nhave figured out how to value potential dividends.  Maybe that isn\\'t\\nthe last step in this evolution.  Maybe markets will eventually get\\ncomfortable with potential earnings. (VCs already are, and at least\\nsome of them consistently make money.)I realize this sounds like the stuff one used to hear about the\\n\"new economy\" during the Bubble.  Believe me, I was not drinking\\nthat kool-aid at the time.  But I\\'m convinced there were some \\ngood\\nideas buried in Bubble thinking.  For example, it\\'s ok to focus on\\ngrowth instead of profits—but only if the growth is genuine.\\nYou can\\'t be buying users; that\\'s a pyramid scheme.   But a company\\nwith rapid, genuine growth is valuable, and eventually markets learn\\nhow to value valuable things.[2] The idea of starting\\na company with benevolent aims is currently undervalued, because\\nthe kind of people who currently make that their explicit goal don\\'t\\nusually do a very good job.It\\'s one of the standard career paths of trustafarians to start\\nsome vaguely benevolent business.  The problem with most of them\\nis that they either have a bogus political agenda or are feebly\\nexecuted.  The trustafarians\\' ancestors didn\\'t get rich by preserving\\ntheir traditional culture; maybe people in Bolivia don\\'t want to\\neither.  And starting an organic farm, though it\\'s at least\\nstraightforwardly benevolent, doesn\\'t help people on the scale that\\nGoogle does.Most explicitly benevolent projects don\\'t hold themselves sufficiently\\naccountable.  They act as if having good intentions were enough to\\nguarantee good effects.[3] Users dislike their\\nnew operating system so much that they\\'re starting petitions to\\nsave the old one.  And the old one was nothing special.  The hackers\\nwithin Microsoft must know in their hearts that if the company\\nreally cared about users they\\'d just advise them to switch to OSX.Thanks to Trevor Blackwell, Paul Buchheit, Jessica Livingston,\\nand Robert Morris for reading drafts of this.')]"
      ]
     },
     "execution_count": 7,
     "metadata": {},
     "output_type": "execute_result"
    }
   ],
   "source": [
    "#txt data loader\n",
    "from langchain_community.document_loaders import TextLoader\n",
    "loader = TextLoader(\"data/be-good.txt\")\n",
    "loader_data = loader.load()\n",
    "loader_data"
   ]
  },
  {
   "cell_type": "code",
   "execution_count": 8,
   "id": "49c332e9",
   "metadata": {},
   "outputs": [
    {
     "name": "stdout",
     "output_type": "stream",
     "text": [
      "Be good\n",
      "\n",
      "April 2008(This essay is derived from a talk at the 2008 Startup School.)About a month after we started Y Combinator we came up with the\n",
      "phrase that became our motto: Make something people want.  We've\n",
      "learned a lot since then, but if I were choosing now that's still\n",
      "the one I'd pick.Another thing we tell founders is not to worry too much about the\n",
      "business model, at least at first.  Not because making money is\n",
      "unimportant, but because it's so much easier than building something\n",
      "great.A couple weeks ago I realized that if you put those two ideas\n",
      "together, you get something surprising.  Make something people want.\n",
      "Don't worry too much about making money.  What you've got is a\n",
      "description of a charity.When you get an unexpected result like this, it could either be a\n",
      "bug or a new discovery.  Either businesses aren't supposed to be\n",
      "like charities, and we've proven by reductio ad absurdum that one\n",
      "or both of the principles we began with is false.  Or we have a new\n",
      "idea.I suspect it's the latter, because as soon as this thought occurred\n",
      "to me, a whole bunch of other things fell into place.ExamplesFor example, Craigslist.  It's not a charity, but they run it like\n",
      "one.  And they're astoundingly successful.  When you scan down the\n",
      "list of most popular web sites, the number of employees at Craigslist\n",
      "looks like a misprint. Their revenues aren't as high as they could\n",
      "be, but most startups would be happy to trade places with them.In Patrick O'Brian's novels, his captains always try to get upwind\n",
      "of their opponents.  If you're upwind, you decide when and if to\n",
      "engage the other ship.  Craigslist is effectively upwind of enormous\n",
      "revenues.  They'd face some challenges if they wanted to make more,\n",
      "but not the sort you face when you're tacking upwind, trying to\n",
      "force a crappy product on ambivalent users by spending ten times\n",
      "as much on sales as on development.  [1]I'm not saying startups should aim to end up like Craigslist.\n",
      "They're a product of unusual circumstances.  But they're a good\n",
      "model for the early phases.Google looked a lot like a charity in the beginning. They didn't\n",
      "have ads for over a year.  At year 1, Google was indistinguishable\n",
      "from a nonprofit.  If a nonprofit or government organization had\n",
      "started a project to index the web, Google at year 1 is the limit\n",
      "of what they'd have produced.Back when I was working on spam filters I thought it would be a\n",
      "good idea to have a web-based email service with good spam filtering.\n",
      "I wasn't thinking of it as a company.  I just wanted to keep people\n",
      "from getting spammed.  But as I thought more about this project, I\n",
      "realized it would probably have to be a company.  It would cost\n",
      "something to run, and it would be a pain to fund with grants and\n",
      "donations.That was a surprising realization.  Companies often claim to be\n",
      "benevolent, but it was surprising to realize there were purely\n",
      "benevolent projects that had to be embodied as companies to work.I didn't want to start another company, so I didn't do it.  But if\n",
      "someone had, they'd probably be quite rich now.  There was a window\n",
      "of about two years when spam was increasing rapidly but all the big\n",
      "email services had terrible filters.  If someone had launched a\n",
      "new, spam-free mail service, users would have flocked to it.Notice the pattern here?  From either direction we get to the same\n",
      "spot.  If you start from successful startups, you find they often\n",
      "behaved like nonprofits.  And if you start from ideas for nonprofits,\n",
      "you find they'd often make good startups.PowerHow wide is this territory?  Would all good nonprofits be good\n",
      "companies?  Possibly not.  What makes Google so valuable is that\n",
      "their users have money.  If you make people with money love you,\n",
      "you can probably get some of it.  But could you also base a successful\n",
      "startup on behaving like a nonprofit to people who don't have money?\n",
      "Could you, for example, grow a successful startup out of curing an\n",
      "unfashionable but deadly disease like malaria?I'm not sure, but I suspect that if you pushed this idea, you'd be\n",
      "surprised how far it would go.  For example, people who apply to Y\n",
      "Combinator don't generally have much money, and yet we can profit\n",
      "by helping them, because with our help they could make money.  Maybe\n",
      "the situation is similar with malaria.  Maybe an organization that\n",
      "helped lift its weight off a country could benefit from the resulting\n",
      "growth.I'm not proposing this is a serious idea.  I don't know anything\n",
      "about malaria.  But I've been kicking ideas around long enough to\n",
      "know when I come across a powerful one.One way to guess how far an idea extends is to ask yourself at what\n",
      "point you'd bet against it.  The thought of betting against benevolence\n",
      "is alarming in the same way as saying that something is technically\n",
      "impossible.  You're just asking to be made a fool of, because these\n",
      "are such powerful forces.  [2]For example, initially I thought maybe this principle only applied\n",
      "to Internet startups.  Obviously it worked for Google, but what\n",
      "about Microsoft?  Surely Microsoft isn't benevolent?  But when I\n",
      "think back to the beginning, they were.  Compared to IBM they were\n",
      "like Robin Hood.  When IBM introduced the PC, they thought they\n",
      "were going to make money selling hardware at high prices.  But by\n",
      "gaining control of the PC standard, Microsoft opened up the market\n",
      "to any manufacturer.  Hardware prices plummeted, and lots of people\n",
      "got to have computers who couldn't otherwise have afforded them.\n",
      "It's the sort of thing you'd expect Google to do.Microsoft isn't so benevolent now.  Now when one thinks of what\n",
      "Microsoft does to users, all the verbs that come to mind begin with\n",
      "F.  [3] And yet it doesn't seem to pay.\n",
      "Their stock price has been flat for years.  Back when they were\n",
      "Robin Hood, their stock price rose like Google's.  Could there be\n",
      "a connection?You can see how there would be.  When you're small, you can't bully\n",
      "customers, so you have to charm them.  Whereas when you're big you\n",
      "can maltreat them at will, and you tend to, because it's easier\n",
      "than satisfying them.  You grow big by being nice, but you can stay\n",
      "big by being mean.You get away with it till the underlying conditions change, and\n",
      "then all your victims escape.  So \"Don't be evil\" may be the most\n",
      "valuable thing Paul Buchheit made for Google, because it may turn\n",
      "out to be an elixir of corporate youth.  I'm sure they find it\n",
      "constraining, but think how valuable it will be if it saves them\n",
      "from lapsing into the fatal laziness that afflicted Microsoft and\n",
      "IBM.The curious thing is, this elixir is freely available to any other\n",
      "company.  Anyone can adopt \"Don't be evil.\"  The catch is that\n",
      "people will hold you to it.  So I don't think you're going to see\n",
      "record labels or tobacco companies using this discovery.MoraleThere's a lot of external evidence that benevolence works.  But how\n",
      "does it work?  One advantage of investing in a large number of\n",
      "startups is that you get a lot of data about how they work.  From\n",
      "what we've seen, being good seems to help startups in three ways:\n",
      "it improves their morale, it makes other people want to help them,\n",
      "and above all, it helps them be decisive.Morale is tremendously important to a startup—so important\n",
      "that morale alone is almost enough to determine success.  Startups\n",
      "are often described as emotional roller-coasters. One minute you're\n",
      "going to take over the world, and the next you're doomed.  The\n",
      "problem with feeling you're doomed is not just that it makes you\n",
      "unhappy, but that it makes you stop working.  So the downhills\n",
      "of the roller-coaster are more of a self fulfilling prophecy than\n",
      "the uphills.  If feeling you're going to succeed makes you work\n",
      "harder, that probably improves your chances of succeeding, but if\n",
      "feeling you're going to fail makes you stop working, that practically\n",
      "guarantees you'll fail.Here's where benevolence comes in.  If you feel you're really helping\n",
      "people, you'll keep working even when it seems like your startup\n",
      "is doomed.  Most of us have some amount of natural benevolence.\n",
      "The mere fact that someone needs you makes you want to help them.\n",
      "So if you start the kind of startup where users come back each day,\n",
      "you've basically built yourself a giant tamagotchi.  You've made\n",
      "something you need to take care of.Blogger is a famous example of a startup that went through really\n",
      "low lows and survived.  At one point they ran out of money and\n",
      "everyone left. Evan Williams came in to work the next day, and there\n",
      "was no one but him.  What kept him going?  Partly that users needed\n",
      "him.  He was hosting thousands of people's blogs. He couldn't just\n",
      "let the site die.There are many advantages of launching quickly, but the most important\n",
      "may be that once you have users, the tamagotchi effect kicks in.\n",
      "Once you have users to take care of, you're forced to figure out\n",
      "what will make them happy, and that's actually very valuable\n",
      "information.The added confidence that comes from trying to help people can\n",
      "also help you with investors. One of the founders of \n",
      "Chatterous told \n",
      "me recently that he and his cofounder had decided that this service\n",
      "was something the world needed, so they were going to keep working\n",
      "on it no matter what, even if they had to move back to Canada and live\n",
      "in their parents' basements.Once they realized this, they stopped caring so much what investors thought\n",
      "about them.  They still met with them, but they weren't going to\n",
      "die if they didn't get their money.  And you know what?  The investors\n",
      "got a lot more interested.  They could sense that the Chatterouses\n",
      "were going to do this startup with or without them.If you're really committed and your startup is cheap to run, you\n",
      "become very hard to kill.  And practically all startups, even the\n",
      "most successful, come close to death at some point.  So if doing\n",
      "good for people gives you a sense of mission that makes you harder\n",
      "to kill, that alone more than compensates for whatever you lose by\n",
      "not choosing a more selfish project.HelpAnother advantage of being good is that it makes other people want\n",
      "to help you.  This too seems to be an inborn trait in humans.One of the startups we've funded, Octopart, is currently locked in\n",
      "a classic battle of good versus evil.  They're a search site for\n",
      "industrial components.  A lot of people need to search for components,\n",
      "and before Octopart there was no good way to do it.  That, it turned\n",
      "out, was no coincidence.Octopart built the right way to search for components.  Users like\n",
      "it and they've been growing rapidly.  And yet for most of Octopart's\n",
      "life, the biggest distributor, Digi-Key, has been trying to force\n",
      "them take their prices off the site.  Octopart is sending them\n",
      "customers for free, and yet Digi-Key is trying to make that traffic\n",
      "stop.  Why?  Because their current business model depends on\n",
      "overcharging people who have incomplete information about prices.\n",
      "They don't want search to work.The Octoparts are the nicest guys in the world.  They dropped out\n",
      "of the PhD program in physics at Berkeley to do this.  They just\n",
      "wanted to fix a problem they encountered in their research.  Imagine\n",
      "how much time you could save the world's engineers if they could\n",
      "do searches online.  So when I hear that a big, evil company is\n",
      "trying to stop them in order to keep search broken, it makes me\n",
      "really want to help them. It makes me spend more time on the Octoparts\n",
      "than I do with most of the other startups we've funded.  It just\n",
      "made me spend several minutes telling you how great they are.  Why?\n",
      "Because they're good guys and they're trying to help the world.If you're benevolent, people will rally around you: investors,\n",
      "customers, other companies, and potential employees.  In the long\n",
      "term the most important may be the potential employees.  I think\n",
      "everyone knows now that \n",
      "good hackers are much better than mediocre\n",
      "ones.  If you can attract the best hackers to work for you, as\n",
      "Google has, you have a big advantage.  And the very best hackers\n",
      "tend to be idealistic.  They're not desperate for a job.  They can\n",
      "work wherever they want.  So most want to work on things that will\n",
      "make the world better.CompassBut the most important advantage of being good is that it acts as\n",
      "a compass.  One of the hardest parts of doing a startup is that you\n",
      "have so many choices.  There are just two or three of you, and a\n",
      "thousand things you could do. How do you decide?Here's the answer: Do whatever's best for your users.  You can hold\n",
      "onto this like a rope in a hurricane, and it will save you if\n",
      "anything can.  Follow it and it will take you through everything\n",
      "you need to do.It's even the answer to questions that seem unrelated, like how to\n",
      "convince investors to give you money.  If you're a good salesman,\n",
      "you could try to just talk them into it.  But the more reliable\n",
      "route is to convince them through your users: if you make something\n",
      "users love enough to tell their friends, you grow exponentially,\n",
      "and that will convince any investor.Being good is a particularly useful strategy for making decisions\n",
      "in complex situations because it's stateless.  It's like telling\n",
      "the truth.  The trouble with lying is that you have to remember\n",
      "everything you've said in the past to make sure you don't contradict\n",
      "yourself.  If you tell the truth you don't have to remember anything,\n",
      "and that's a really useful property in domains where things happen\n",
      "fast.For example, Y Combinator has now invested in 80 startups, 57 of\n",
      "which are still alive.  (The rest have died or merged or been\n",
      "acquired.)  When you're trying to advise 57 startups, it turns out\n",
      "you have to have a stateless algorithm.  You can't have ulterior\n",
      "motives when you have 57 things going on at once, because you can't\n",
      "remember them.  So our rule is just to do whatever's best for the\n",
      "founders.  Not because we're particularly benevolent, but because\n",
      "it's the only algorithm that works on that scale.When you write something telling people to be good, you seem to be\n",
      "claiming to be good yourself.  So I want to say explicitly that I\n",
      "am not a particularly good person.  When I was a kid I was firmly\n",
      "in the camp of bad.  The way adults used the word good, it seemed\n",
      "to be synonymous with quiet, so I grew up very suspicious of it.You know how there are some people whose names come up in conversation\n",
      "and everyone says \"He's such a great guy?\"  People never say\n",
      "that about me.  The best I get is \"he means well.\"  I am not claiming\n",
      "to be good.  At best I speak good as a second language.So I'm not suggesting you be good in the usual sanctimonious way.\n",
      "I'm suggesting it because it works.  It will work not just as a\n",
      "statement of \"values,\" but as a guide to strategy,\n",
      "and even a design spec for software.  Don't just not be evil.  Be\n",
      "good.Notes[1] Fifty years ago\n",
      "it would have seemed shocking for a public company not to pay\n",
      "dividends.  Now many tech companies don't.  The markets seem to\n",
      "have figured out how to value potential dividends.  Maybe that isn't\n",
      "the last step in this evolution.  Maybe markets will eventually get\n",
      "comfortable with potential earnings. (VCs already are, and at least\n",
      "some of them consistently make money.)I realize this sounds like the stuff one used to hear about the\n",
      "\"new economy\" during the Bubble.  Believe me, I was not drinking\n",
      "that kool-aid at the time.  But I'm convinced there were some \n",
      "good\n",
      "ideas buried in Bubble thinking.  For example, it's ok to focus on\n",
      "growth instead of profits—but only if the growth is genuine.\n",
      "You can't be buying users; that's a pyramid scheme.   But a company\n",
      "with rapid, genuine growth is valuable, and eventually markets learn\n",
      "how to value valuable things.[2] The idea of starting\n",
      "a company with benevolent aims is currently undervalued, because\n",
      "the kind of people who currently make that their explicit goal don't\n",
      "usually do a very good job.It's one of the standard career paths of trustafarians to start\n",
      "some vaguely benevolent business.  The problem with most of them\n",
      "is that they either have a bogus political agenda or are feebly\n",
      "executed.  The trustafarians' ancestors didn't get rich by preserving\n",
      "their traditional culture; maybe people in Bolivia don't want to\n",
      "either.  And starting an organic farm, though it's at least\n",
      "straightforwardly benevolent, doesn't help people on the scale that\n",
      "Google does.Most explicitly benevolent projects don't hold themselves sufficiently\n",
      "accountable.  They act as if having good intentions were enough to\n",
      "guarantee good effects.[3] Users dislike their\n",
      "new operating system so much that they're starting petitions to\n",
      "save the old one.  And the old one was nothing special.  The hackers\n",
      "within Microsoft must know in their hearts that if the company\n",
      "really cared about users they'd just advise them to switch to OSX.Thanks to Trevor Blackwell, Paul Buchheit, Jessica Livingston,\n",
      "and Robert Morris for reading drafts of this.\n"
     ]
    }
   ],
   "source": [
    "print(loader_data[0].page_content  )"
   ]
  },
  {
   "cell_type": "code",
   "execution_count": 9,
   "id": "df0a7ec8",
   "metadata": {},
   "outputs": [
    {
     "name": "stdout",
     "output_type": "stream",
     "text": [
      "TreeID: 168225\n",
      "qLegalStatus: DPW Maintained\n",
      "qSpecies: Arbutus 'Marina' :: Hybrid Strawberry Tree\n",
      "qAddress: 2547 Vallejo St\n",
      "SiteOrder: 1\n",
      "qSiteInfo: Sidewalk: Curb side : Cutout\n",
      "PlantType: Tree\n",
      "qCaretaker: Private\n",
      "qCareAssistant: \n",
      "PlantDate: \n",
      "DBH: 0\n",
      "PlotSize: Width 4ft\n",
      "PermitNotes: \n",
      "XCoord: 6001190.70767\n",
      "YCoord: 2117587.71154\n",
      "Latitude: 37.794558498932695\n",
      "Longitude: -122.43986908930563\n",
      "Location: (37.794558498932695, -122.43986908930563)\n",
      "Fire Prevention Districts: 13\n",
      "Police Districts: 9\n",
      "Supervisor Districts: 1\n",
      "Zip Codes: 57\n",
      "Neighborhoods (old): 27\n",
      "Analysis Neighborhoods: 30\n"
     ]
    }
   ],
   "source": [
    "# CSV data loader\n",
    "from langchain_community.document_loaders import CSVLoader\n",
    "loader = CSVLoader(file_path=\"data/Street_Tree_List.csv\")\n",
    "csv_data = loader.load()\n",
    "print(csv_data[0].page_content)\n"
   ]
  },
  {
   "cell_type": "code",
   "execution_count": 4,
   "id": "bb827cc6",
   "metadata": {},
   "outputs": [
    {
     "data": {
      "text/plain": [
       "[Document(metadata={'source': 'data/test.html'}, page_content='')]"
      ]
     },
     "execution_count": 4,
     "metadata": {},
     "output_type": "execute_result"
    }
   ],
   "source": [
    "# HTML data loader\n",
    "from langchain_community.document_loaders import UnstructuredHTMLLoader\n",
    "loader = UnstructuredHTMLLoader(\"data/test.html\")\n",
    "html_data = loader.load()\n",
    "html_data"
   ]
  },
  {
   "cell_type": "code",
   "execution_count": 8,
   "id": "619bd27d",
   "metadata": {},
   "outputs": [
    {
     "name": "stdout",
     "output_type": "stream",
     "text": [
      "Page 1 of 4 PDF Files \n",
      "Scan – Create – Reduce File Size  \n",
      " \n",
      " \n",
      "It is recommended that you purchase an Adobe Acrobat product that \n",
      "allows you to read, create and manipulate PDF documents.  Go to http://www.adobe.com/products/acrobat/matrix.html\n",
      " to compare \n",
      "Adobe products and features –Adobe  Acrobat Standard is sufficient. \n",
      " \n",
      " \n",
      "Scanning Documents \n",
      " \n",
      "You should only have to scan docu ments that are not electronic, and \n",
      "when you are unable to create a PDF using PDFMaker or the Print \n",
      "Command from the applicat ion you are using.   \n",
      " \n",
      "Signature Pages If you have a document such as a CV that requires a signature on a page only print the page that re quires the signature –printing the \n",
      "entire document and scanning it is not\n",
      " necessary or desired.  Once you \n",
      "sign and scan the signature page you can combine it with the original \n",
      "document using the Create PDF From Multiple Files feature. \n",
      " Scanner Settings Before scanning documents rememb er to make certain that the \n",
      "following settings are activated on your scanner (settings may vary):  Document Mode \n",
      " Scan to smallest size \n",
      " Fast (lowest quality) \n",
      " Grayscale or black and white  \n",
      " Resolution: 300dpi or less\n"
     ]
    }
   ],
   "source": [
    "# PDF data loader\n",
    "from langchain_community.document_loaders import PyPDFLoader\n",
    "loader = PyPDFLoader(\"data/5pages.pdf\")\n",
    "pdf_data = loader.load_and_split()\n",
    "print(pdf_data[0].page_content)"
   ]
  },
  {
   "cell_type": "code",
   "execution_count": null,
   "id": "f050f61e",
   "metadata": {},
   "outputs": [],
   "source": []
  }
 ],
 "metadata": {
  "kernelspec": {
   "display_name": "llmapp",
   "language": "python",
   "name": "python3"
  },
  "language_info": {
   "codemirror_mode": {
    "name": "ipython",
    "version": 3
   },
   "file_extension": ".py",
   "mimetype": "text/x-python",
   "name": "python",
   "nbconvert_exporter": "python",
   "pygments_lexer": "ipython3",
   "version": "3.11.13"
  }
 },
 "nbformat": 4,
 "nbformat_minor": 5
}
