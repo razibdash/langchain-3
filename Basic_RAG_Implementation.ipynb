{
 "cells": [
  {
   "cell_type": "code",
   "execution_count": 1,
   "id": "8c150850",
   "metadata": {},
   "outputs": [],
   "source": [
    "import os\n",
    "from dotenv import load_dotenv, find_dotenv\n",
    "_ = load_dotenv(find_dotenv())\n",
    "GROQ_API_KEY = os.environ[\"GROQ_API_KEY\"]"
   ]
  },
  {
   "cell_type": "code",
   "execution_count": 2,
   "id": "15c545e6",
   "metadata": {},
   "outputs": [],
   "source": [
    "from langchain_community.vectorstores import FAISS\n",
    "from langchain_text_splitters import CharacterTextSplitter\n",
    "from langchain_community.document_loaders import TextLoader"
   ]
  },
  {
   "cell_type": "code",
   "execution_count": 3,
   "id": "2a64b205",
   "metadata": {},
   "outputs": [
    {
     "name": "stderr",
     "output_type": "stream",
     "text": [
      "C:\\Users\\DELL\\AppData\\Local\\Temp\\ipykernel_13968\\4261329249.py:4: LangChainDeprecationWarning: The class `HuggingFaceEmbeddings` was deprecated in LangChain 0.2.2 and will be removed in 0.3.0. An updated version of the class exists in the langchain-huggingface package and should be used instead. To use it run `pip install -U langchain-huggingface` and import as `from langchain_huggingface import HuggingFaceEmbeddings`.\n",
      "  embeddings = HuggingFaceEmbeddings(\n",
      "d:\\anaconda\\envs\\llmapp\\Lib\\site-packages\\tqdm\\auto.py:21: TqdmWarning: IProgress not found. Please update jupyter and ipywidgets. See https://ipywidgets.readthedocs.io/en/stable/user_install.html\n",
      "  from .autonotebook import tqdm as notebook_tqdm\n"
     ]
    }
   ],
   "source": [
    "# %pip install sentence-transformers\n",
    "from langchain.embeddings import HuggingFaceEmbeddings\n",
    "\n",
    "embeddings = HuggingFaceEmbeddings(\n",
    "    model_name=\"sentence-transformers/all-MiniLM-L6-v2\"\n",
    ")"
   ]
  },
  {
   "cell_type": "code",
   "execution_count": 4,
   "id": "cb387cbd",
   "metadata": {},
   "outputs": [],
   "source": [
    "loader = TextLoader(\"./data/razib.txt\")\n",
    "loaded_document = loader.load()"
   ]
  },
  {
   "cell_type": "code",
   "execution_count": 5,
   "id": "24bc8a8d",
   "metadata": {},
   "outputs": [
    {
     "data": {
      "text/plain": [
       "'Razib Dash is an educator and technologist with a strong foundation in computer science, data analytics, and artificial intelligence. With hands-on experience in tools like LangChain, Generative AI, and MERN stack development, Razib blends deep technical skills with a passion for teaching and innovation.\\n\\nHis areas of interest include:\\n\\nGenerative AI & Language Models (e.g., LLaMA, ChatGPT)\\n\\nFull-stack Development (MongoDB, Express, React, Node.js)\\n\\nData Science & Machine Learning\\n\\nEducational Technology & AI-driven learning systems\\n\\nRazib is committed to continuous learning and building intelligent systems that solve real-world problems. Whether in the classroom or the codebase, he values clarity, creativity, and collaboration.\\n\\nRazib Dash is an academic and researcher specializing in computer science, with particular focus on artificial intelligence, machine learning, and computational education. His work bridges the gap between emerging AI technologies and pedagogical innovation, ai'"
      ]
     },
     "execution_count": 5,
     "metadata": {},
     "output_type": "execute_result"
    }
   ],
   "source": [
    "loaded_document[0].page_content[:1000]"
   ]
  },
  {
   "cell_type": "code",
   "execution_count": 6,
   "id": "aac448ce",
   "metadata": {},
   "outputs": [
    {
     "name": "stderr",
     "output_type": "stream",
     "text": [
      "Created a chunk of size 305, which is longer than the specified 100\n",
      "Created a chunk of size 198, which is longer than the specified 100\n",
      "Created a chunk of size 325, which is longer than the specified 100\n",
      "Created a chunk of size 374, which is longer than the specified 100\n"
     ]
    }
   ],
   "source": [
    "text_splitter = CharacterTextSplitter(chunk_size=100, chunk_overlap=4)\n",
    "chunks_of_text = text_splitter.split_documents(loaded_document)"
   ]
  },
  {
   "cell_type": "code",
   "execution_count": 7,
   "id": "17f81aaa",
   "metadata": {},
   "outputs": [
    {
     "data": {
      "text/plain": [
       "12"
      ]
     },
     "execution_count": 7,
     "metadata": {},
     "output_type": "execute_result"
    }
   ],
   "source": [
    "len(chunks_of_text)"
   ]
  },
  {
   "cell_type": "code",
   "execution_count": 8,
   "id": "2dc57d26",
   "metadata": {},
   "outputs": [
    {
     "data": {
      "text/plain": [
       "<langchain_community.vectorstores.faiss.FAISS at 0x1830fc0fb90>"
      ]
     },
     "execution_count": 8,
     "metadata": {},
     "output_type": "execute_result"
    }
   ],
   "source": [
    "vector_db = FAISS.from_documents(\n",
    "    chunks_of_text,\n",
    "    embeddings,\n",
    ")\n",
    "vector_db"
   ]
  },
  {
   "cell_type": "code",
   "execution_count": null,
   "id": "09454ec0",
   "metadata": {},
   "outputs": [],
   "source": [
    "retriever = vector_db.as_retriever()"
   ]
  },
  {
   "cell_type": "code",
   "execution_count": 13,
   "id": "c625f6a9",
   "metadata": {},
   "outputs": [
    {
     "data": {
      "text/plain": [
       "[Document(metadata={'source': './data/razib.txt'}, page_content='Razib Dash is an educator and technologist with a strong foundation in computer science, data analytics, and artificial intelligence. With hands-on experience in tools like LangChain, Generative AI, and MERN stack development, Razib blends deep technical skills with a passion for teaching and innovation.'),\n",
       " Document(metadata={'source': './data/razib.txt'}, page_content='Razib Dash is an academic and researcher specializing in computer science, with particular focus on artificial intelligence, machine learning, and computational education. His work bridges the gap between emerging AI technologies and pedagogical innovation, aiming to enhance learning experiences through intelligent systems.'),\n",
       " Document(metadata={'source': './data/razib.txt'}, page_content='Razib is committed to continuous learning and building intelligent systems that solve real-world problems. Whether in the classroom or the codebase, he values clarity, creativity, and collaboration.'),\n",
       " Document(metadata={'source': './data/razib.txt'}, page_content='Razib is passionate about fostering interdisciplinary collaboration, mentoring students, and contributing to the advancement of AI literacy in academic environments.')]"
      ]
     },
     "execution_count": 13,
     "metadata": {},
     "output_type": "execute_result"
    }
   ],
   "source": [
    "query = \"What is Razib Dash?\"\n",
    "response = retriever.invoke(query)\n",
    "response"
   ]
  },
  {
   "cell_type": "code",
   "execution_count": 15,
   "id": "567049a2",
   "metadata": {},
   "outputs": [
    {
     "name": "stdout",
     "output_type": "stream",
     "text": [
      "Razib Dash is an educator and technologist with a strong foundation in computer science, data analytics, and artificial intelligence. With hands-on experience in tools like LangChain, Generative AI, and MERN stack development, Razib blends deep technical skills with a passion for teaching and innovation.\n"
     ]
    }
   ],
   "source": [
    "print(response[0].page_content)"
   ]
  },
  {
   "cell_type": "markdown",
   "id": "d6f2988c",
   "metadata": {
    "vscode": {
     "languageId": "html"
    }
   },
   "source": [
    "Simple use with LCEL\n"
   ]
  },
  {
   "cell_type": "code",
   "execution_count": 17,
   "id": "ecc7cb91",
   "metadata": {},
   "outputs": [],
   "source": [
    "from langchain_groq import ChatGroq\n",
    "from langchain_core.prompts import ChatPromptTemplate\n",
    "from langchain_core.output_parsers import StrOutputParser\n",
    "from langchain_core.runnables import RunnablePassthrough"
   ]
  },
  {
   "cell_type": "code",
   "execution_count": 22,
   "id": "b8932d05",
   "metadata": {},
   "outputs": [],
   "source": [
    "model = ChatGroq(\n",
    "    model=\"llama3-70b-8192\",\n",
    "    temperature=0.1,\n",
    "    max_tokens=512,\n",
    "    groq_api_key=GROQ_API_KEY,\n",
    ")\n"
   ]
  },
  {
   "cell_type": "code",
   "execution_count": 23,
   "id": "e05b2288",
   "metadata": {},
   "outputs": [],
   "source": [
    "template = \"\"\"Answer the question based only on the following context:\n",
    "\n",
    "{context}\n",
    "\n",
    "Question: {question}\n",
    "\"\"\"\n",
    "\n",
    "prompt = ChatPromptTemplate.from_template(template)"
   ]
  },
  {
   "cell_type": "code",
   "execution_count": 24,
   "id": "d14a5f5d",
   "metadata": {},
   "outputs": [],
   "source": [
    "def format_docs(docs):\n",
    "    return \"\\n\\n\".join([d.page_content for d in docs])\n",
    "\n",
    "\n",
    "chain = (\n",
    "    {\"context\": retriever | format_docs, \"question\": RunnablePassthrough()}\n",
    "    | prompt\n",
    "    | model\n",
    "    | StrOutputParser()\n",
    ")"
   ]
  },
  {
   "cell_type": "code",
   "execution_count": 25,
   "id": "9a2ef59d",
   "metadata": {},
   "outputs": [],
   "source": [
    "response = chain.invoke(\"what is razib dash?\")"
   ]
  },
  {
   "cell_type": "code",
   "execution_count": 26,
   "id": "223f9091",
   "metadata": {},
   "outputs": [
    {
     "data": {
      "text/plain": [
       "'Razib Dash is an educator, technologist, academic, and researcher.'"
      ]
     },
     "execution_count": 26,
     "metadata": {},
     "output_type": "execute_result"
    }
   ],
   "source": [
    "response"
   ]
  },
  {
   "cell_type": "code",
   "execution_count": 27,
   "id": "91774f09",
   "metadata": {},
   "outputs": [
    {
     "data": {
      "text/plain": [
       "\"Based on the provided context, Razib Dash's skills and expertise include:\\n\\n1. Computer science\\n2. Data analytics\\n3. Artificial intelligence\\n4. LangChain\\n5. Generative AI\\n6. MERN stack development\\n7. Machine learning\\n8. Computational education\\n9. Pedagogical innovation\\n10. Building intelligent systems that solve real-world problems.\""
      ]
     },
     "execution_count": 27,
     "metadata": {},
     "output_type": "execute_result"
    }
   ],
   "source": [
    "response=chain.invoke(\"Razib Dash skills and expertise?\")\n",
    "response"
   ]
  }
 ],
 "metadata": {
  "kernelspec": {
   "display_name": "llmapp",
   "language": "python",
   "name": "python3"
  },
  "language_info": {
   "codemirror_mode": {
    "name": "ipython",
    "version": 3
   },
   "file_extension": ".py",
   "mimetype": "text/x-python",
   "name": "python",
   "nbconvert_exporter": "python",
   "pygments_lexer": "ipython3",
   "version": "3.11.13"
  }
 },
 "nbformat": 4,
 "nbformat_minor": 5
}
